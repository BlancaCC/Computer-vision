{
 "cells": [
  {
   "cell_type": "markdown",
   "source": [
    "# Práctica 1\n",
    "\n",
    "Autor: Blanca Cano Camarero  DGIIM  \n",
    "Grupo: 2  \n",
    "Fecha: Octubre 2021  \n"
   ],
   "metadata": {}
  },
  {
   "cell_type": "code",
   "execution_count": 1,
   "source": [
    "# Configuración previa \n",
    "# modulos utilizados\n",
    "import cv2 as cv\n",
    "import matplotlib.pyplot as plt\n",
    "import numpy as np\n",
    "\n",
    "# path carpeta con imágenes\n",
    "path = './media'"
   ],
   "outputs": [],
   "metadata": {}
  },
  {
   "cell_type": "markdown",
   "source": [
    "# Ejercicio 1 \n",
    "USANDO SOLO FUNCIONES BÁSICAS DE OPENCV, escribir funciones Python que implementen de forma eficiente el cálculo de los siguientes puntos. \n",
    "\n",
    "## Ejercicio 1A\n",
    "\n",
    "Considere la función Gaussiana 1D de media 0 y desviación típica σ.   \n",
    "[] Calcular las máscaras discretas 1D de la función Gaussiana,  \n",
    "[] la derivada de la Gaussiana   \n",
    "[] y la segunda derivada de la Gaussiana.   \n",
    "\n",
    "La función implementada debe considerar que tanto el valor de σ como el tamaño\n",
    "de la máscara son posibles entradas alternativas a la función. Represente en ejes cartesianos\n",
    "las máscaras obtenidas como funciones 1D y compare sus formas con las máscaras dadas por\n",
    "la función de OpenCV getDerivKernels para los mismos tamaños de máscara. Use los tamaños\n",
    "5, 7 y 9.\n",
    "\n",
    "### Solución \n",
    "El tamaño del array unidimensional de nuestra máscara es $T = 2 ceil(3 \\sigma) + 1$\n",
    "La función Gaussiana es de la forma \n",
    "$$G(x) = \\frac{1}{\\sigma \\sqrt{2 \\pi}} e^{-\\frac{x^2}{2 \\sigma^2}}$$\n",
    "\n",
    "Puesto que nuestra máscara es un array de las imágenes de $G$ evaluadas en $\\{ -k, (-k+1), ..., 0, 1..., k \\}$ con $k$ cupliendo que $2k+1 = T$ y que deben de sumar uno. \n",
    "\n",
    "Podemos obviar la constante que acompaña al término ya que si $S = \\sum_{i=-k}^k c G(k)$ sacamos factor común $c$... \n",
    "\n",
    "Todo: ¿Las derivas sí que deberían de llevar constantes? ¿Suma cero? ¿Qué significa?\n",
    "La derivada de la Gaussiana sería \n",
    "$$\\frac{d G(x)}{dx} = \\frac{1}{\\sigma \\sqrt{2 \\pi}} e^{-\\frac{x^2}{2 \\sigma^2}}(-\\frac{x}{\\sigma^2})$$\n",
    "Que obviando las constantes quedaría \n",
    "\n",
    "$dG(x) = e^{-\\frac{x^2}{2 \\sigma^2}}(-x)$"
   ],
   "metadata": {}
  },
  {
   "cell_type": "code",
   "execution_count": 27,
   "source": [
    "# Declaración de la Gaussiana y su derivada primera y segunda\n",
    "def Gaussiana (x: float, desviacion_tipica : float):\n",
    "    return np.exp( - x**2 /(2* desviacion_tipica**2))\n",
    "\n",
    "def DerivadaPrimeraGaussiana (x: float, desviacion_tipica : float)->list:\n",
    "    return np.exp( - x**2 /(2* desviacion_tipica**2))* (-x)\n",
    "\n",
    "# Declaración de las funciones para calcular la máscara de tamaño T\n",
    "\n",
    "def Mascara( f, size:int ):\n",
    "    ''' Función auxiliar que devuelve estrictamente la máscara\n",
    "        Devuelve la máscara de f de tamaño size \n",
    "        Requisito: size debe ser impar. \n",
    "    '''\n",
    "    k = (size -1)//2\n",
    "    return [f(i) for i in range(-k,k+1)]\n",
    "\n",
    "def MascaraGaussiana( desviacion_tipica:float, size:int)-> list:\n",
    "    '''Máscara Gaussiana de tamaño \"size\"\n",
    "    Requisito size debe ser impar \n",
    "    '''\n",
    "    mascara_sin_normalizar =  np.array(\n",
    "        Mascara(lambda x: Gaussiana(x, desviacion_tipica), size),\n",
    "        np.float64\n",
    "    )\n",
    "    suma = sum(mascara_sin_normalizar)\n",
    "    return 1/suma*mascara_sin_normalizar\n",
    "\n",
    "def MascaraDerivadaPrimera(desviacion_tipica:float , size:int)->list:\n",
    "    mascara_sin_normalizar =  np.array(\n",
    "        Mascara(lambda x: DerivadaPrimeraGaussiana(x, desviacion_tipica), size),\n",
    "        np.float64\n",
    "    )\n",
    "    return mascara_sin_normalizar\n",
    "\n",
    "#####  Test\n",
    "\n",
    "MascaraGaussiana(  1, 3)\n",
    "MascaraDerivadaPrimera(1, 4)"
   ],
   "outputs": [
    {
     "output_type": "error",
     "ename": "NameError",
     "evalue": "name 'function' is not defined",
     "traceback": [
      "\u001b[0;31m---------------------------------------------------------------------------\u001b[0m",
      "\u001b[0;31mNameError\u001b[0m                                 Traceback (most recent call last)",
      "\u001b[0;32m/tmp/ipykernel_3811/1656214378.py\u001b[0m in \u001b[0;36m<module>\u001b[0;34m\u001b[0m\n\u001b[1;32m      8\u001b[0m \u001b[0;31m# Declaración de las funciones para calcular la máscara de tamaño T\u001b[0m\u001b[0;34m\u001b[0m\u001b[0;34m\u001b[0m\u001b[0;34m\u001b[0m\u001b[0m\n\u001b[1;32m      9\u001b[0m \u001b[0;34m\u001b[0m\u001b[0m\n\u001b[0;32m---> 10\u001b[0;31m \u001b[0;32mdef\u001b[0m \u001b[0mMascara\u001b[0m\u001b[0;34m(\u001b[0m \u001b[0mf\u001b[0m\u001b[0;34m:\u001b[0m\u001b[0mfunction\u001b[0m\u001b[0;34m,\u001b[0m \u001b[0msize\u001b[0m\u001b[0;34m:\u001b[0m\u001b[0mint\u001b[0m \u001b[0;34m)\u001b[0m\u001b[0;34m:\u001b[0m\u001b[0;34m\u001b[0m\u001b[0;34m\u001b[0m\u001b[0m\n\u001b[0m\u001b[1;32m     11\u001b[0m     ''' Función auxiliar que devuelve estrictamente la máscara\n\u001b[1;32m     12\u001b[0m         \u001b[0mDevuelve\u001b[0m \u001b[0mla\u001b[0m \u001b[0mmáscara\u001b[0m \u001b[0mde\u001b[0m \u001b[0mf\u001b[0m \u001b[0mde\u001b[0m \u001b[0mtamaño\u001b[0m \u001b[0msize\u001b[0m\u001b[0;34m\u001b[0m\u001b[0;34m\u001b[0m\u001b[0m\n",
      "\u001b[0;31mNameError\u001b[0m: name 'function' is not defined"
     ]
    }
   ],
   "metadata": {}
  },
  {
   "cell_type": "markdown",
   "source": [],
   "metadata": {}
  }
 ],
 "metadata": {
  "orig_nbformat": 4,
  "language_info": {
   "name": "python",
   "version": "3.8.8",
   "mimetype": "text/x-python",
   "codemirror_mode": {
    "name": "ipython",
    "version": 3
   },
   "pygments_lexer": "ipython3",
   "nbconvert_exporter": "python",
   "file_extension": ".py"
  },
  "kernelspec": {
   "name": "python3",
   "display_name": "Python 3.8.8 64-bit ('base': conda)"
  },
  "interpreter": {
   "hash": "8743c1cf254631e2f8768da3e3aa817a4b8ce568f7b1fed9ce70b891d2979cd4"
  }
 },
 "nbformat": 4,
 "nbformat_minor": 2
}