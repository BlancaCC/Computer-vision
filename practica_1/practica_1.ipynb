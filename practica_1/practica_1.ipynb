{
 "cells": [
  {
   "cell_type": "markdown",
   "source": [
    "# Práctica 1\n",
    "\n",
    "Autor: Blanca Cano Camarero  DGIIM  \n",
    "Grupo: 2  \n",
    "Fecha: Octubre 2021  \n"
   ],
   "metadata": {}
  },
  {
   "cell_type": "code",
   "execution_count": null,
   "source": [
    "# Configuración previa \n",
    "# modulos utilizados\n",
    "import cv2 as cv\n",
    "import matplotlib.pyplot as plt\n",
    "import numpy as np\n",
    "\n",
    "# path carpeta con imágenes\n",
    "path = './media'"
   ],
   "outputs": [],
   "metadata": {}
  },
  {
   "cell_type": "markdown",
   "source": [
    "# Ejercicio 1 \n",
    "USANDO SOLO FUNCIONES BÁSICAS DE OPENCV, escribir funciones Python que implementen de forma eficiente el cálculo de los siguientes puntos. \n",
    "\n",
    "## Ejercicio 1A\n",
    "\n",
    "Considere la función Gaussiana 1D de media 0 y desviación típica σ. Calcular las máscaras\n",
    "discretas 1D de la función Gaussiana, la derivada de la Gaussiana y la segunda derivada de la\n",
    "Gaussiana. La función implementada debe considerar que tanto el valor de σ como el tamaño\n",
    "de la máscara son posibles entradas alternativas a la función. Represente en ejes cartesianos\n",
    "las máscaras obtenidas como funciones 1D y compare sus formas con las máscaras dadas por\n",
    "la función de OpenCV getDerivKernels para los mismos tamaños de máscara. Use los tamaños\n",
    "5, 7 y 9.\n",
    "\n",
    "### Solución \n",
    "La derivada primera de la Gaussiana se calcula como: "
   ],
   "metadata": {}
  },
  {
   "cell_type": "code",
   "execution_count": 3,
   "source": [],
   "outputs": [
    {
     "output_type": "stream",
     "name": "stdout",
     "text": [
      "Work!!\n"
     ]
    }
   ],
   "metadata": {}
  },
  {
   "cell_type": "markdown",
   "source": [],
   "metadata": {}
  }
 ],
 "metadata": {
  "orig_nbformat": 4,
  "language_info": {
   "name": "python",
   "version": "3.8.8",
   "mimetype": "text/x-python",
   "codemirror_mode": {
    "name": "ipython",
    "version": 3
   },
   "pygments_lexer": "ipython3",
   "nbconvert_exporter": "python",
   "file_extension": ".py"
  },
  "kernelspec": {
   "name": "python3",
   "display_name": "Python 3.8.8 64-bit ('base': conda)"
  },
  "interpreter": {
   "hash": "8743c1cf254631e2f8768da3e3aa817a4b8ce568f7b1fed9ce70b891d2979cd4"
  }
 },
 "nbformat": 4,
 "nbformat_minor": 2
}