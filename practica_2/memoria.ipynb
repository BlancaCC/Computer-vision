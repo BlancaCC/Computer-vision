{
 "cells": [
  {
   "cell_type": "markdown",
   "metadata": {},
   "source": [
    "# Práctica 2 Detección de puntos relevantes y construcciín de panoramas \n",
    "\n",
    "Autor: Blanca Cano Camarero \n",
    "Fecha: Noviembre 2021 \n"
   ]
  },
  {
   "cell_type": "markdown",
   "metadata": {},
   "source": [
    "## Apartado primero  \n",
    "\n",
    "1.- (4 puntos) Extracción de regiones relevantes en un espacio de escalas.\n",
    "Este punto se centra en detectar KeyPoints sobre cada una de las imágenes\n",
    "de Yosemite.rar (usar versiones en rango de gris) y dibujarlos sobre las\n",
    "imágenes haciendo uso de la función drawKeyPoints(). Para ello, se ha de\n",
    "construir un Espacio de Escalas (pirámide) de Lowe con cuatro octavas en\n",
    "total y tres escalas dentro de cada octava. Suponer que la imagen original está\n",
    "afectada por un alisamiento debido a la captura de 𝜎 = 0.8 y queremos\n",
    "introducir una primera octava de índice-0 de manera que la imagen semilla (\n",
    "𝑣 01 ) en el espacio de escalas tenga un $\\sigma=1.6$."
   ]
  },
  {
   "cell_type": "markdown",
   "metadata": {},
   "source": [
    "### Sobre la construcción del método de SIFT \n",
    "\n",
    "#### Documentación  \n",
    "-  Diapositivas de teoría. \n",
    "- Artículo **Anatomy of the SIFT Method** de Ives Rey-Otero y Mauricio Delbracio. \n",
    " http://dx.doi.org/10.5201/ipol.2014.82\n",
    "\n",
    "#### Descripción general del algoritmo  \n",
    "\n",
    "El métoro SIFT es un extractor e descriptores de la imagen invariante a translaciones, rotaciones y escalado. \n",
    "\n",
    "El algoritmo consiste en dos procesos independientes: La detección de puntos de interés y extracción de descriptores de cada uno de ellos. Nos centraremos en el primero de los procesos en este apartado. \n",
    "\n",
    "##### Pasos del algoritmo \n",
    "\n",
    "1. Cálculo del espacio de escalas Gaussiano. \n",
    "2. Cálculo de las diferencias Gaussianas. \n",
    "3. Búsqueda de los puntos candidatos de interés. \n",
    "\n",
    "##### Construcción de 1, cálculo del espacion de escalas Gaussiano  \n",
    "\n",
    "Para ello se ha implementado la función auxiliar requisito 1B. \n"
   ]
  },
  {
   "cell_type": "markdown",
   "metadata": {},
   "source": [
    "## Distintos apartados a completar en el ejercicio 1 son\n",
    "\n",
    "[] a) ¿Qué operaciones sobre la imagen original de 𝜎 = 0.8 nos permite\n",
    "fijar una imagen semilla de 𝜎 = 1.6 ?  \n",
    "\n",
    "[] b) Implementar una función que calcule las escalas de cualquier octava\n",
    "de la forma más eficiente posible. Es decir, reusable para cualquier\n",
    "escala.\n",
    "\n",
    "[] c) Usar la función implementada en (b) para calcular las escalas de\n",
    "todas las octavas (0-3). Mostrar las imágenes calculadas agrupadas\n",
    "por octava (mostrar solo las escalas 1,2 y 3 en cada octava). \n",
    "\n",
    "[] d) Calcular el espacio de escalas Laplaciano a partir de la pirámide e\n",
    "identificar los 100 extremos locales con mayor respuesta, presentes\n",
    "en la misma. Extraer en un vector (x,y,$\\sigma$) para cada uno de ellos en\n",
    "los ejes de la imagen original.\n",
    "\n",
    "[] e) Mostrar la imagen con los extremos locales extraídos usando para\n",
    "ello un círculo de radio 6x sobre la escala de detección $\\sigma$.\n",
    "\n",
    "[] f) Bonus.- (1 punto) Quién realice este punto usando código propio de\n",
    "convolución y submuestreo (pirámide de Lowe)."
   ]
  }
 ],
 "metadata": {
  "language_info": {
   "name": "python"
  },
  "orig_nbformat": 4
 },
 "nbformat": 4,
 "nbformat_minor": 2
}
